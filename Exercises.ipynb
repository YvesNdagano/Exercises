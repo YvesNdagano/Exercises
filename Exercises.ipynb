{
 "cells": [
  {
   "cell_type": "code",
   "execution_count": 1,
   "metadata": {},
   "outputs": [
    {
     "name": "stdout",
     "output_type": "stream",
     "text": [
      "{'A': 2, 'B': 4, 'C': 2, 'D': 1, 'F': 1}\n"
     ]
    }
   ],
   "source": [
    "def classify_grades(scores):\n",
    "    # Initialize grade counts\n",
    "    grade_counts = {\"A\": 0, \"B\": 0, \"C\": 0, \"D\": 0, \"F\": 0}\n",
    "\n",
    "    # Classify each score\n",
    "    for score in scores:\n",
    "        if 90 <= score <= 100: # Check if score is between 90 and 100\n",
    "            grade_counts[\"A\"] += 1\n",
    "        elif 80 <= score <= 89:\n",
    "            grade_counts[\"B\"] += 1\n",
    "        elif 70 <= score <= 79:\n",
    "            grade_counts[\"C\"] += 1\n",
    "        elif 60 <= score <= 69:\n",
    "            grade_counts[\"D\"] += 1\n",
    "        else:  # score < 60\n",
    "            grade_counts[\"F\"] += 1\n",
    "\n",
    "    return grade_counts # Return the dictionary with grade counts\n",
    "print(classify_grades([95, 85, 76, 88, 92, 67, 54, 89, 73, 81])) # Example usage of the function\n",
    "#This will classify the grades of the given scores and print the counts of each grade."
   ]
  },
  {
   "cell_type": "code",
   "execution_count": 3,
   "metadata": {},
   "outputs": [
    {
     "name": "stdout",
     "output_type": "stream",
     "text": [
      "[2, 3, 5, 7, 11, 13, 17, 19, 23, 29]\n"
     ]
    }
   ],
   "source": [
    "def find_first_10_primes():\n",
    "    primes = [] # List to store the first 10 prime numbers\n",
    "    num = 2  # Starting from the first prime number\n",
    "\n",
    "    while len(primes) < 10: # Loop until we find 10 prime numbers\n",
    "        # Assume num is prime until proven otherwise\n",
    "        is_prime = True\n",
    "        # Check if num is divisible by any number from 2 to sqrt(num)\n",
    "        for i in range(2, int(num ** 0.5) + 1):\n",
    "            if num % i == 0: # If num is divisible by i, it's not prime\n",
    "                is_prime = False \n",
    "                break\n",
    "        if is_prime:\n",
    "            primes.append(num) # If num is prime, add it to the list of primes\n",
    "        # Increment num to check the next number\n",
    "        num += 1\n",
    "\n",
    "    print(primes)\n",
    "\n",
    "# Run the function\n",
    "find_first_10_primes()"
   ]
  },
  {
   "cell_type": "code",
   "execution_count": 4,
   "metadata": {},
   "outputs": [
    {
     "name": "stdout",
     "output_type": "stream",
     "text": [
      "True\n"
     ]
    }
   ],
   "source": [
    "def is_valid_password(password):\n",
    "    # Check length\n",
    "    if len(password) < 8:\n",
    "        return False # Password must be at least 8 characters long\n",
    "# Check for at least one uppercase letter, one digit, and one special character\n",
    "    # Initialize flags\n",
    "    has_upper = False \n",
    "    has_digit = False\n",
    "    has_special = False\n",
    "    special_chars = \"!@#$%^&*\"\n",
    "\n",
    "    # Check each character\n",
    "    for char in password:\n",
    "        if char.isupper():\n",
    "            has_upper = True\n",
    "        elif char.isdigit():\n",
    "            has_digit = True\n",
    "        elif char in special_chars:\n",
    "            has_special = True\n",
    "\n",
    "    # Return True only if all conditions are met\n",
    "    return has_upper and has_digit and has_special\n",
    "print(is_valid_password(\"Number1*\")) # Example usage of the function\n",
    "# This will check if the password \"Amy123!\" is valid according to the defined criteria."
   ]
  },
  {
   "cell_type": "code",
   "execution_count": 5,
   "metadata": {},
   "outputs": [
    {
     "name": "stdout",
     "output_type": "stream",
     "text": [
      "1 \n",
      "2 4 \n",
      "3 6 9 \n",
      "4 8 12 16 \n"
     ]
    }
   ],
   "source": [
    "def print_number_pattern(): # Function to print a number pattern\n",
    "    for row in range(1, 5):  # 4 rows\n",
    "        for col in range(1, row + 1): # 1 to row (inclusive)\n",
    "            # Print the product of row and col\n",
    "            print(row * col, end=' ')\n",
    "        print()  # Move to the next line after each row\n",
    "\n",
    "# Run the function\n",
    "print_number_pattern()"
   ]
  },
  {
   "cell_type": "code",
   "execution_count": 6,
   "metadata": {},
   "outputs": [
    {
     "name": "stdout",
     "output_type": "stream",
     "text": [
      "True\n"
     ]
    }
   ],
   "source": [
    "def is_palindrome(word): # Function to check if a word is a palindrome\n",
    "    # Clean the input\n",
    "    cleaned = ''.join(char.lower() for char in word if char != ' ')\n",
    "\n",
    "    # Use two-pointer technique with a loop\n",
    "    left = 0\n",
    "    right = len(cleaned) - 1\n",
    "\n",
    "    while left < right:\n",
    "        if cleaned[left] != cleaned[right]:\n",
    "            return False\n",
    "        left += 1\n",
    "        right -= 1\n",
    "\n",
    "    return True\n",
    "print(is_palindrome(\"Reviver\")) # Example usage of the function"
   ]
  },
  {
   "cell_type": "markdown",
   "metadata": {},
   "source": [
    "GROUP MEMBERS: Mercy, Yves, Charlene,Gabriel,Chris,Amy and Patience.\n",
    "COMMENT:With this Quiz it is easy to understand how a break through an array using several technics as while,for loop,if statement and many more."
   ]
  }
 ],
 "metadata": {
  "kernelspec": {
   "display_name": "Python 3",
   "language": "python",
   "name": "python3"
  },
  "language_info": {
   "codemirror_mode": {
    "name": "ipython",
    "version": 3
   },
   "file_extension": ".py",
   "mimetype": "text/x-python",
   "name": "python",
   "nbconvert_exporter": "python",
   "pygments_lexer": "ipython3",
   "version": "3.13.1"
  }
 },
 "nbformat": 4,
 "nbformat_minor": 2
}
